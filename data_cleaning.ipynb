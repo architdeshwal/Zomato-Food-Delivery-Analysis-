{
  "cells": [
    {
      "cell_type": "markdown",
      "id": "7e232b55",
      "metadata": {
        "id": "7e232b55"
      },
      "source": [
        "# Table1"
      ]
    },
    {
      "cell_type": "code",
      "execution_count": null,
      "id": "e100810a",
      "metadata": {
        "id": "e100810a",
        "outputId": "737e5e67-6888-4ff7-e6cb-8af3529a65ca"
      },
      "outputs": [
        {
          "data": {
            "text/html": [
              "<div>\n",
              "<style scoped>\n",
              "    .dataframe tbody tr th:only-of-type {\n",
              "        vertical-align: middle;\n",
              "    }\n",
              "\n",
              "    .dataframe tbody tr th {\n",
              "        vertical-align: top;\n",
              "    }\n",
              "\n",
              "    .dataframe thead th {\n",
              "        text-align: right;\n",
              "    }\n",
              "</style>\n",
              "<table border=\"1\" class=\"dataframe\">\n",
              "  <thead>\n",
              "    <tr style=\"text-align: right;\">\n",
              "      <th></th>\n",
              "      <th>restaurant_id</th>\n",
              "      <th>Name</th>\n",
              "      <th>Rating</th>\n",
              "      <th>cusines</th>\n",
              "      <th>delivery_review_number</th>\n",
              "      <th>location</th>\n",
              "      <th>Longitude</th>\n",
              "      <th>Latitude</th>\n",
              "      <th>Restaurant_link</th>\n",
              "      <th>price_for_one</th>\n",
              "    </tr>\n",
              "  </thead>\n",
              "  <tbody>\n",
              "    <tr>\n",
              "      <th>0</th>\n",
              "      <td>1</td>\n",
              "      <td>Itminaan Matka Biryani - Slow Cooked</td>\n",
              "      <td>4</td>\n",
              "      <td>Biryani, North Indian, Desserts</td>\n",
              "      <td>64</td>\n",
              "      <td>Ulsoor, Bangalore</td>\n",
              "      <td>77.624670</td>\n",
              "      <td>12.977879</td>\n",
              "      <td>https://www.zomato.com/bangalore/itminaan-matk...</td>\n",
              "      <td>₹250 for one order (approx.)</td>\n",
              "    </tr>\n",
              "    <tr>\n",
              "      <th>1</th>\n",
              "      <td>2</td>\n",
              "      <td>Chicking</td>\n",
              "      <td>3.7</td>\n",
              "      <td>Fast Food, Burger, Pizza</td>\n",
              "      <td>622</td>\n",
              "      <td>Rajajinagar, Bangalore</td>\n",
              "      <td>77.554883</td>\n",
              "      <td>12.988234</td>\n",
              "      <td>https://www.zomato.com/bangalore/chicking-1-ra...</td>\n",
              "      <td>₹200 for one order (approx.)</td>\n",
              "    </tr>\n",
              "    <tr>\n",
              "      <th>2</th>\n",
              "      <td>3</td>\n",
              "      <td>Ludos Pizza</td>\n",
              "      <td>4</td>\n",
              "      <td>Pizza, Fast Food, Desserts, Beverages</td>\n",
              "      <td>152</td>\n",
              "      <td>Marathahalli, Bangalore</td>\n",
              "      <td>77.698416</td>\n",
              "      <td>12.955257</td>\n",
              "      <td>https://www.zomato.com/bangalore/ludos-pizza-2...</td>\n",
              "      <td>₹300 for one order (approx.)</td>\n",
              "    </tr>\n",
              "    <tr>\n",
              "      <th>3</th>\n",
              "      <td>4</td>\n",
              "      <td>Auntie Fung's</td>\n",
              "      <td>4</td>\n",
              "      <td>Asian, Thai, Vietnamese, Japanese, Indonesian,...</td>\n",
              "      <td>1,491</td>\n",
              "      <td>Indiranagar, Bangalore</td>\n",
              "      <td>77.640467</td>\n",
              "      <td>12.973291</td>\n",
              "      <td>https://www.zomato.com/bangalore/auntie-fungs-...</td>\n",
              "      <td>₹300 for one order (approx.)</td>\n",
              "    </tr>\n",
              "    <tr>\n",
              "      <th>4</th>\n",
              "      <td>5</td>\n",
              "      <td>Burgers And Shakes</td>\n",
              "      <td>4</td>\n",
              "      <td>Burger, Sandwich, Fast Food, Shake, Beverages</td>\n",
              "      <td>18</td>\n",
              "      <td>Indiranagar, Bangalore</td>\n",
              "      <td>77.640467</td>\n",
              "      <td>12.973291</td>\n",
              "      <td>https://www.zomato.com/bangalore/burgers-and-s...</td>\n",
              "      <td>₹100 for one order (approx.)</td>\n",
              "    </tr>\n",
              "    <tr>\n",
              "      <th>...</th>\n",
              "      <td>...</td>\n",
              "      <td>...</td>\n",
              "      <td>...</td>\n",
              "      <td>...</td>\n",
              "      <td>...</td>\n",
              "      <td>...</td>\n",
              "      <td>...</td>\n",
              "      <td>...</td>\n",
              "      <td>...</td>\n",
              "      <td>...</td>\n",
              "    </tr>\n",
              "    <tr>\n",
              "      <th>7591</th>\n",
              "      <td>7592</td>\n",
              "      <td>BOX8 - Desi Meals</td>\n",
              "      <td>4.3</td>\n",
              "      <td>North Indian, Wraps, Fast Food, Biryani, Desse...</td>\n",
              "      <td>21.1K</td>\n",
              "      <td>Bannerghatta Road, Bangalore</td>\n",
              "      <td>77.604190</td>\n",
              "      <td>12.952180</td>\n",
              "      <td>https://www.zomato.com/bangalore/box8-desi-mea...</td>\n",
              "      <td>₹250 for one order (approx.)</td>\n",
              "    </tr>\n",
              "    <tr>\n",
              "      <th>7592</th>\n",
              "      <td>7593</td>\n",
              "      <td>The Bangalore Dhaba</td>\n",
              "      <td>3.9</td>\n",
              "      <td>North Indian, Italian, Chinese, Mughlai, Bever...</td>\n",
              "      <td>154</td>\n",
              "      <td>Kalyan Nagar, Bangalore</td>\n",
              "      <td>77.640337</td>\n",
              "      <td>13.022142</td>\n",
              "      <td>https://www.zomato.com/bangalore/the-bangalore...</td>\n",
              "      <td>₹800 for two people (approx.) Without alcohol</td>\n",
              "    </tr>\n",
              "    <tr>\n",
              "      <th>7593</th>\n",
              "      <td>7594</td>\n",
              "      <td>RRB Ambur Hot Dum Biriyani</td>\n",
              "      <td>3.8</td>\n",
              "      <td>Biryani, Kebab</td>\n",
              "      <td>112</td>\n",
              "      <td>RT Nagar, Bangalore</td>\n",
              "      <td>77.595715</td>\n",
              "      <td>13.022720</td>\n",
              "      <td>https://www.zomato.com/bangalore/rrb-ambur-hot...</td>\n",
              "      <td>₹300 for two people (approx.)</td>\n",
              "    </tr>\n",
              "    <tr>\n",
              "      <th>7594</th>\n",
              "      <td>7595</td>\n",
              "      <td>Wrap It</td>\n",
              "      <td>4.1</td>\n",
              "      <td>Wraps</td>\n",
              "      <td>109</td>\n",
              "      <td>Whitefield, Bangalore</td>\n",
              "      <td>77.749745</td>\n",
              "      <td>12.969637</td>\n",
              "      <td>https://www.zomato.com/bangalore/wrap-it-white...</td>\n",
              "      <td>₹250 for one order (approx.)</td>\n",
              "    </tr>\n",
              "    <tr>\n",
              "      <th>7595</th>\n",
              "      <td>7596</td>\n",
              "      <td>Mega Biryani</td>\n",
              "      <td>4</td>\n",
              "      <td>Biryani</td>\n",
              "      <td>7</td>\n",
              "      <td>Jayanagar, Bangalore</td>\n",
              "      <td>77.582423</td>\n",
              "      <td>12.929273</td>\n",
              "      <td>https://www.zomato.com/bangalore/mega-biryani-...</td>\n",
              "      <td>₹200 for one order (approx.)</td>\n",
              "    </tr>\n",
              "  </tbody>\n",
              "</table>\n",
              "<p>7596 rows × 10 columns</p>\n",
              "</div>"
            ],
            "text/plain": [
              "      restaurant_id                                  Name Rating  \\\n",
              "0                 1  Itminaan Matka Biryani - Slow Cooked      4   \n",
              "1                 2                              Chicking    3.7   \n",
              "2                 3                           Ludos Pizza      4   \n",
              "3                 4                         Auntie Fung's      4   \n",
              "4                 5                    Burgers And Shakes      4   \n",
              "...             ...                                   ...    ...   \n",
              "7591           7592                     BOX8 - Desi Meals    4.3   \n",
              "7592           7593                   The Bangalore Dhaba    3.9   \n",
              "7593           7594            RRB Ambur Hot Dum Biriyani    3.8   \n",
              "7594           7595                               Wrap It    4.1   \n",
              "7595           7596                          Mega Biryani      4   \n",
              "\n",
              "                                                cusines  \\\n",
              "0                       Biryani, North Indian, Desserts   \n",
              "1                              Fast Food, Burger, Pizza   \n",
              "2                 Pizza, Fast Food, Desserts, Beverages   \n",
              "3     Asian, Thai, Vietnamese, Japanese, Indonesian,...   \n",
              "4         Burger, Sandwich, Fast Food, Shake, Beverages   \n",
              "...                                                 ...   \n",
              "7591  North Indian, Wraps, Fast Food, Biryani, Desse...   \n",
              "7592  North Indian, Italian, Chinese, Mughlai, Bever...   \n",
              "7593                                     Biryani, Kebab   \n",
              "7594                                              Wraps   \n",
              "7595                                            Biryani   \n",
              "\n",
              "     delivery_review_number                      location  Longitude  \\\n",
              "0                        64             Ulsoor, Bangalore  77.624670   \n",
              "1                       622        Rajajinagar, Bangalore  77.554883   \n",
              "2                       152       Marathahalli, Bangalore  77.698416   \n",
              "3                     1,491        Indiranagar, Bangalore  77.640467   \n",
              "4                        18        Indiranagar, Bangalore  77.640467   \n",
              "...                     ...                           ...        ...   \n",
              "7591                  21.1K  Bannerghatta Road, Bangalore  77.604190   \n",
              "7592                    154       Kalyan Nagar, Bangalore  77.640337   \n",
              "7593                    112           RT Nagar, Bangalore  77.595715   \n",
              "7594                    109         Whitefield, Bangalore  77.749745   \n",
              "7595                      7          Jayanagar, Bangalore  77.582423   \n",
              "\n",
              "       Latitude                                    Restaurant_link  \\\n",
              "0     12.977879  https://www.zomato.com/bangalore/itminaan-matk...   \n",
              "1     12.988234  https://www.zomato.com/bangalore/chicking-1-ra...   \n",
              "2     12.955257  https://www.zomato.com/bangalore/ludos-pizza-2...   \n",
              "3     12.973291  https://www.zomato.com/bangalore/auntie-fungs-...   \n",
              "4     12.973291  https://www.zomato.com/bangalore/burgers-and-s...   \n",
              "...         ...                                                ...   \n",
              "7591  12.952180  https://www.zomato.com/bangalore/box8-desi-mea...   \n",
              "7592  13.022142  https://www.zomato.com/bangalore/the-bangalore...   \n",
              "7593  13.022720  https://www.zomato.com/bangalore/rrb-ambur-hot...   \n",
              "7594  12.969637  https://www.zomato.com/bangalore/wrap-it-white...   \n",
              "7595  12.929273  https://www.zomato.com/bangalore/mega-biryani-...   \n",
              "\n",
              "                                      price_for_one  \n",
              "0                      ₹250 for one order (approx.)  \n",
              "1                      ₹200 for one order (approx.)  \n",
              "2                      ₹300 for one order (approx.)  \n",
              "3                      ₹300 for one order (approx.)  \n",
              "4                      ₹100 for one order (approx.)  \n",
              "...                                             ...  \n",
              "7591                   ₹250 for one order (approx.)  \n",
              "7592  ₹800 for two people (approx.) Without alcohol  \n",
              "7593                  ₹300 for two people (approx.)  \n",
              "7594                   ₹250 for one order (approx.)  \n",
              "7595                   ₹200 for one order (approx.)  \n",
              "\n",
              "[7596 rows x 10 columns]"
            ]
          },
          "execution_count": 129,
          "metadata": {},
          "output_type": "execute_result"
        }
      ],
      "source": [
        "import pandas as pd \n",
        "df = pd.read_csv(r'C:\\Users\\Vaishali Tomar\\Desktop\\zomato_project\\excel\\with_link.csv')\n",
        "df"
      ]
    },
    {
      "cell_type": "code",
      "execution_count": null,
      "id": "1622d731",
      "metadata": {
        "id": "1622d731"
      },
      "outputs": [],
      "source": [
        "# cleaning the \"price_for_one\" column"
      ]
    },
    {
      "cell_type": "code",
      "execution_count": null,
      "id": "eec6bc54",
      "metadata": {
        "id": "eec6bc54",
        "outputId": "fbee78f5-fb54-4d40-fba0-060cc4f6598d"
      },
      "outputs": [
        {
          "name": "stderr",
          "output_type": "stream",
          "text": [
            "C:\\Users\\Vaishali Tomar\\AppData\\Local\\Temp\\ipykernel_27348\\3226383660.py:3: FutureWarning: The default value of regex will change from True to False in a future version.\n",
            "  df['price_for_one'] = df[\"price_for_one\"].str.replace(i,'').str.replace(',','')\n",
            "C:\\Users\\Vaishali Tomar\\AppData\\Local\\Temp\\ipykernel_27348\\3226383660.py:3: FutureWarning: The default value of regex will change from True to False in a future version. In addition, single character regular expressions will *not* be treated as literal strings when regex=True.\n",
            "  df['price_for_one'] = df[\"price_for_one\"].str.replace(i,'').str.replace(',','')\n"
          ]
        }
      ],
      "source": [
        "col = ['₹','for','order','approx.','(',')','people','Without alcohol','with alcohol']\n",
        "for i in col:\n",
        "    df['price_for_one'] = df[\"price_for_one\"].str.replace(i,'').str.replace(',','')\n",
        "\n"
      ]
    },
    {
      "cell_type": "code",
      "execution_count": null,
      "id": "2b70358a",
      "metadata": {
        "id": "2b70358a"
      },
      "outputs": [],
      "source": [
        "list =[]\n",
        "for i in df['price_for_one']:\n",
        "    list.append(str(i))\n"
      ]
    },
    {
      "cell_type": "code",
      "execution_count": null,
      "id": "bfd983c7",
      "metadata": {
        "id": "bfd983c7"
      },
      "outputs": [],
      "source": [
        "L = []\n",
        "for i in list:\n",
        "    if 'two' in i:\n",
        "        i = i.replace('two','')\n",
        "        i = i.replace(' ','')\n",
        "        i = int(i)\n",
        "        i = i/2\n",
        "        L.append(i)\n",
        "    elif 'one' in i:\n",
        "        i = i.replace('one','')\n",
        "        i = i.replace(' ','')\n",
        "        L.append(i)\n",
        "    else:\n",
        "        L.append(i)"
      ]
    },
    {
      "cell_type": "code",
      "execution_count": null,
      "id": "089206ca",
      "metadata": {
        "id": "089206ca"
      },
      "outputs": [],
      "source": [
        "df['price_for_one'] = L"
      ]
    },
    {
      "cell_type": "code",
      "execution_count": null,
      "id": "f4f69a01",
      "metadata": {
        "id": "f4f69a01",
        "outputId": "f2708e1d-dfe9-46ff-f451-babac0948934"
      },
      "outputs": [
        {
          "data": {
            "text/html": [
              "<div>\n",
              "<style scoped>\n",
              "    .dataframe tbody tr th:only-of-type {\n",
              "        vertical-align: middle;\n",
              "    }\n",
              "\n",
              "    .dataframe tbody tr th {\n",
              "        vertical-align: top;\n",
              "    }\n",
              "\n",
              "    .dataframe thead th {\n",
              "        text-align: right;\n",
              "    }\n",
              "</style>\n",
              "<table border=\"1\" class=\"dataframe\">\n",
              "  <thead>\n",
              "    <tr style=\"text-align: right;\">\n",
              "      <th></th>\n",
              "      <th>restaurant_id</th>\n",
              "      <th>Name</th>\n",
              "      <th>Rating</th>\n",
              "      <th>cusines</th>\n",
              "      <th>delivery_review_number</th>\n",
              "      <th>location</th>\n",
              "      <th>Longitude</th>\n",
              "      <th>Latitude</th>\n",
              "      <th>Restaurant_link</th>\n",
              "      <th>price_for_one</th>\n",
              "    </tr>\n",
              "  </thead>\n",
              "  <tbody>\n",
              "    <tr>\n",
              "      <th>0</th>\n",
              "      <td>1</td>\n",
              "      <td>Itminaan Matka Biryani - Slow Cooked</td>\n",
              "      <td>4</td>\n",
              "      <td>Biryani, North Indian, Desserts</td>\n",
              "      <td>64</td>\n",
              "      <td>Ulsoor, Bangalore</td>\n",
              "      <td>77.624670</td>\n",
              "      <td>12.977879</td>\n",
              "      <td>https://www.zomato.com/bangalore/itminaan-matk...</td>\n",
              "      <td>250</td>\n",
              "    </tr>\n",
              "    <tr>\n",
              "      <th>1</th>\n",
              "      <td>2</td>\n",
              "      <td>Chicking</td>\n",
              "      <td>3.7</td>\n",
              "      <td>Fast Food, Burger, Pizza</td>\n",
              "      <td>622</td>\n",
              "      <td>Rajajinagar, Bangalore</td>\n",
              "      <td>77.554883</td>\n",
              "      <td>12.988234</td>\n",
              "      <td>https://www.zomato.com/bangalore/chicking-1-ra...</td>\n",
              "      <td>200</td>\n",
              "    </tr>\n",
              "    <tr>\n",
              "      <th>2</th>\n",
              "      <td>3</td>\n",
              "      <td>Ludos Pizza</td>\n",
              "      <td>4</td>\n",
              "      <td>Pizza, Fast Food, Desserts, Beverages</td>\n",
              "      <td>152</td>\n",
              "      <td>Marathahalli, Bangalore</td>\n",
              "      <td>77.698416</td>\n",
              "      <td>12.955257</td>\n",
              "      <td>https://www.zomato.com/bangalore/ludos-pizza-2...</td>\n",
              "      <td>300</td>\n",
              "    </tr>\n",
              "    <tr>\n",
              "      <th>3</th>\n",
              "      <td>4</td>\n",
              "      <td>Auntie Fung's</td>\n",
              "      <td>4</td>\n",
              "      <td>Asian, Thai, Vietnamese, Japanese, Indonesian,...</td>\n",
              "      <td>1,491</td>\n",
              "      <td>Indiranagar, Bangalore</td>\n",
              "      <td>77.640467</td>\n",
              "      <td>12.973291</td>\n",
              "      <td>https://www.zomato.com/bangalore/auntie-fungs-...</td>\n",
              "      <td>300</td>\n",
              "    </tr>\n",
              "    <tr>\n",
              "      <th>4</th>\n",
              "      <td>5</td>\n",
              "      <td>Burgers And Shakes</td>\n",
              "      <td>4</td>\n",
              "      <td>Burger, Sandwich, Fast Food, Shake, Beverages</td>\n",
              "      <td>18</td>\n",
              "      <td>Indiranagar, Bangalore</td>\n",
              "      <td>77.640467</td>\n",
              "      <td>12.973291</td>\n",
              "      <td>https://www.zomato.com/bangalore/burgers-and-s...</td>\n",
              "      <td>100</td>\n",
              "    </tr>\n",
              "  </tbody>\n",
              "</table>\n",
              "</div>"
            ],
            "text/plain": [
              "   restaurant_id                                  Name Rating  \\\n",
              "0              1  Itminaan Matka Biryani - Slow Cooked      4   \n",
              "1              2                              Chicking    3.7   \n",
              "2              3                           Ludos Pizza      4   \n",
              "3              4                         Auntie Fung's      4   \n",
              "4              5                    Burgers And Shakes      4   \n",
              "\n",
              "                                             cusines delivery_review_number  \\\n",
              "0                    Biryani, North Indian, Desserts                     64   \n",
              "1                           Fast Food, Burger, Pizza                    622   \n",
              "2              Pizza, Fast Food, Desserts, Beverages                    152   \n",
              "3  Asian, Thai, Vietnamese, Japanese, Indonesian,...                  1,491   \n",
              "4      Burger, Sandwich, Fast Food, Shake, Beverages                     18   \n",
              "\n",
              "                  location  Longitude   Latitude  \\\n",
              "0        Ulsoor, Bangalore  77.624670  12.977879   \n",
              "1   Rajajinagar, Bangalore  77.554883  12.988234   \n",
              "2  Marathahalli, Bangalore  77.698416  12.955257   \n",
              "3   Indiranagar, Bangalore  77.640467  12.973291   \n",
              "4   Indiranagar, Bangalore  77.640467  12.973291   \n",
              "\n",
              "                                     Restaurant_link price_for_one  \n",
              "0  https://www.zomato.com/bangalore/itminaan-matk...           250  \n",
              "1  https://www.zomato.com/bangalore/chicking-1-ra...           200  \n",
              "2  https://www.zomato.com/bangalore/ludos-pizza-2...           300  \n",
              "3  https://www.zomato.com/bangalore/auntie-fungs-...           300  \n",
              "4  https://www.zomato.com/bangalore/burgers-and-s...           100  "
            ]
          },
          "execution_count": 135,
          "metadata": {},
          "output_type": "execute_result"
        }
      ],
      "source": [
        "df.head()"
      ]
    },
    {
      "cell_type": "markdown",
      "id": "42b34203",
      "metadata": {
        "id": "42b34203"
      },
      "source": [
        "### checking dtypes"
      ]
    },
    {
      "cell_type": "code",
      "execution_count": null,
      "id": "817da610",
      "metadata": {
        "id": "817da610",
        "outputId": "bb0bd97f-d0d0-415d-a6db-f9ec722a46f7"
      },
      "outputs": [
        {
          "data": {
            "text/plain": [
              "restaurant_id               int64\n",
              "Name                       object\n",
              "Rating                     object\n",
              "cusines                    object\n",
              "delivery_review_number     object\n",
              "location                   object\n",
              "Longitude                 float64\n",
              "Latitude                  float64\n",
              "Restaurant_link            object\n",
              "price_for_one              object\n",
              "dtype: object"
            ]
          },
          "execution_count": 136,
          "metadata": {},
          "output_type": "execute_result"
        }
      ],
      "source": [
        "df.dtypes"
      ]
    },
    {
      "cell_type": "code",
      "execution_count": null,
      "id": "805c9fba",
      "metadata": {
        "id": "805c9fba"
      },
      "outputs": [],
      "source": [
        "df['price_for_one']=df['price_for_one'].astype('float64')"
      ]
    },
    {
      "cell_type": "markdown",
      "id": "7c0a23b0",
      "metadata": {
        "id": "7c0a23b0"
      },
      "source": [
        "# Treating noise values"
      ]
    },
    {
      "cell_type": "markdown",
      "id": "0931968d",
      "metadata": {
        "id": "0931968d"
      },
      "source": [
        "### removing ','  and inplace of 'K' multipling 1000 in \"delivery_review_number\"\t\t"
      ]
    },
    {
      "cell_type": "code",
      "execution_count": null,
      "id": "ff2f8321",
      "metadata": {
        "id": "ff2f8321"
      },
      "outputs": [],
      "source": [
        "df['delivery_review_number'] = df[\"delivery_review_number\"].str.replace(',','').str.replace(',','') #removing ','"
      ]
    },
    {
      "cell_type": "code",
      "execution_count": null,
      "id": "50bd1b93",
      "metadata": {
        "id": "50bd1b93",
        "outputId": "fcbbf2a3-1d59-439d-9533-c1660feaef5e"
      },
      "outputs": [
        {
          "data": {
            "text/plain": [
              "63"
            ]
          },
          "execution_count": 139,
          "metadata": {},
          "output_type": "execute_result"
        }
      ],
      "source": [
        "df[\"delivery_review_number\"].isnull().sum()"
      ]
    },
    {
      "cell_type": "code",
      "execution_count": null,
      "id": "01e678bb",
      "metadata": {
        "id": "01e678bb"
      },
      "outputs": [],
      "source": [
        "df['delivery_review_number'].fillna(0,inplace = True) #filling null values"
      ]
    },
    {
      "cell_type": "code",
      "execution_count": null,
      "id": "b9dba0dd",
      "metadata": {
        "id": "b9dba0dd"
      },
      "outputs": [],
      "source": [
        "# replacing 'K' with 'into 1000'\n",
        "df['delivery_review_number']=df[\"delivery_review_number\"].replace({\"K\":\"*1e3\", \"M\":\"*1e6\"}, regex=True).map(pd.eval).astype(int)\n"
      ]
    },
    {
      "cell_type": "code",
      "execution_count": null,
      "id": "5a61a816",
      "metadata": {
        "id": "5a61a816"
      },
      "outputs": [],
      "source": [
        "df['Rating'] = df[\"Rating\"].str.replace('-','').str.replace(',','') #removing '-' from reviews\n",
        "df['Rating']=pd.to_numeric(df['Rating'],errors='coerce')\n",
        "df['Rating'].fillna(0,inplace = True)"
      ]
    },
    {
      "cell_type": "markdown",
      "id": "791b74bc",
      "metadata": {
        "id": "791b74bc"
      },
      "source": [
        "### checking null values\n"
      ]
    },
    {
      "cell_type": "code",
      "execution_count": null,
      "id": "7f7bfafd",
      "metadata": {
        "id": "7f7bfafd",
        "outputId": "f96b2125-6c5d-4a28-d226-5413582d8a31"
      },
      "outputs": [
        {
          "data": {
            "text/plain": [
              "restaurant_id               0\n",
              "Name                        3\n",
              "Rating                      0\n",
              "cusines                     3\n",
              "delivery_review_number      0\n",
              "location                    3\n",
              "Longitude                 240\n",
              "Latitude                  240\n",
              "Restaurant_link             0\n",
              "price_for_one               5\n",
              "dtype: int64"
            ]
          },
          "execution_count": 143,
          "metadata": {},
          "output_type": "execute_result"
        }
      ],
      "source": [
        "df.isnull().sum()"
      ]
    },
    {
      "cell_type": "code",
      "execution_count": null,
      "id": "3bc7d150",
      "metadata": {
        "id": "3bc7d150"
      },
      "outputs": [],
      "source": [
        "col = ['price_for_one','location','cusines','Name']\n",
        "for i in col:\n",
        "    df[i]=df[i].dropna()\n"
      ]
    },
    {
      "cell_type": "code",
      "execution_count": null,
      "id": "8338c733",
      "metadata": {
        "id": "8338c733",
        "outputId": "15ead312-4a70-4e0b-a43a-c0b8a6bf4557"
      },
      "outputs": [
        {
          "data": {
            "text/plain": [
              "restaurant_id               0\n",
              "Name                        3\n",
              "Rating                      0\n",
              "cusines                     3\n",
              "delivery_review_number      0\n",
              "location                    3\n",
              "Longitude                 240\n",
              "Latitude                  240\n",
              "Restaurant_link             0\n",
              "price_for_one               5\n",
              "dtype: int64"
            ]
          },
          "execution_count": 145,
          "metadata": {},
          "output_type": "execute_result"
        }
      ],
      "source": [
        "df.isnull().sum()"
      ]
    },
    {
      "cell_type": "code",
      "execution_count": null,
      "id": "a8422fb1",
      "metadata": {
        "id": "a8422fb1"
      },
      "outputs": [],
      "source": [
        "ffill = [df[i].fillna(method= 'ffill',inplace = True) for i in ['Longitude','Latitude']]\n",
        "\n",
        "    "
      ]
    },
    {
      "cell_type": "code",
      "execution_count": null,
      "id": "97ddf3db",
      "metadata": {
        "id": "97ddf3db"
      },
      "outputs": [],
      "source": [
        "df.dropna(inplace = True)"
      ]
    },
    {
      "cell_type": "code",
      "execution_count": null,
      "id": "ad36c156",
      "metadata": {
        "id": "ad36c156"
      },
      "outputs": [],
      "source": [
        "# checking data type again"
      ]
    },
    {
      "cell_type": "code",
      "execution_count": null,
      "id": "835ba79e",
      "metadata": {
        "id": "835ba79e",
        "outputId": "376c3fe3-91ad-419f-b4a0-750847489e3b"
      },
      "outputs": [
        {
          "name": "stdout",
          "output_type": "stream",
          "text": [
            "<class 'pandas.core.frame.DataFrame'>\n",
            "Int64Index: 7589 entries, 0 to 7595\n",
            "Data columns (total 10 columns):\n",
            " #   Column                  Non-Null Count  Dtype  \n",
            "---  ------                  --------------  -----  \n",
            " 0   restaurant_id           7589 non-null   int64  \n",
            " 1   Name                    7589 non-null   object \n",
            " 2   Rating                  7589 non-null   float64\n",
            " 3   cusines                 7589 non-null   object \n",
            " 4   delivery_review_number  7589 non-null   int32  \n",
            " 5   location                7589 non-null   object \n",
            " 6   Longitude               7589 non-null   float64\n",
            " 7   Latitude                7589 non-null   float64\n",
            " 8   Restaurant_link         7589 non-null   object \n",
            " 9   price_for_one           7589 non-null   float64\n",
            "dtypes: float64(4), int32(1), int64(1), object(4)\n",
            "memory usage: 622.5+ KB\n"
          ]
        }
      ],
      "source": [
        "df.info()"
      ]
    },
    {
      "cell_type": "code",
      "execution_count": null,
      "id": "c7caedf7",
      "metadata": {
        "id": "c7caedf7",
        "outputId": "06fb1015-9d3d-4bd5-bdf9-ca78f0d476e6"
      },
      "outputs": [
        {
          "data": {
            "text/plain": [
              "(7589, 10)"
            ]
          },
          "execution_count": 128,
          "metadata": {},
          "output_type": "execute_result"
        }
      ],
      "source": [
        "df.shape"
      ]
    },
    {
      "cell_type": "markdown",
      "id": "01e4a5f1",
      "metadata": {
        "id": "01e4a5f1"
      },
      "source": [
        "## Now the data looks clean "
      ]
    },
    {
      "cell_type": "markdown",
      "id": "0d07081e",
      "metadata": {
        "id": "0d07081e"
      },
      "source": [
        "# Table2"
      ]
    },
    {
      "cell_type": "code",
      "execution_count": null,
      "id": "c98ac339",
      "metadata": {
        "id": "c98ac339",
        "outputId": "393a14ec-1cbe-4424-f7ed-74c15d2b5d0a"
      },
      "outputs": [
        {
          "data": {
            "text/html": [
              "<div>\n",
              "<style scoped>\n",
              "    .dataframe tbody tr th:only-of-type {\n",
              "        vertical-align: middle;\n",
              "    }\n",
              "\n",
              "    .dataframe tbody tr th {\n",
              "        vertical-align: top;\n",
              "    }\n",
              "\n",
              "    .dataframe thead th {\n",
              "        text-align: right;\n",
              "    }\n",
              "</style>\n",
              "<table border=\"1\" class=\"dataframe\">\n",
              "  <thead>\n",
              "    <tr style=\"text-align: right;\">\n",
              "      <th></th>\n",
              "      <th>location</th>\n",
              "      <th>dish_name</th>\n",
              "      <th>dish_price</th>\n",
              "      <th>restaurant_name</th>\n",
              "    </tr>\n",
              "  </thead>\n",
              "  <tbody>\n",
              "    <tr>\n",
              "      <th>0</th>\n",
              "      <td>Ulsoor, Bangalore</td>\n",
              "      <td>1 KG Veg &amp; Paneer Overload Matka Biryani + FRE...</td>\n",
              "      <td>₹449</td>\n",
              "      <td>Itminaan Matka Biryani - Slow Cooked</td>\n",
              "    </tr>\n",
              "    <tr>\n",
              "      <th>1</th>\n",
              "      <td>Ulsoor, Bangalore</td>\n",
              "      <td>1 KG Bhuna Chicken Matka Biryani + FREE Dessert</td>\n",
              "      <td>₹499</td>\n",
              "      <td>Itminaan Matka Biryani - Slow Cooked</td>\n",
              "    </tr>\n",
              "    <tr>\n",
              "      <th>2</th>\n",
              "      <td>Ulsoor, Bangalore</td>\n",
              "      <td>1 KG Chole Dumdaar Matka Biryani + FREE Dessert</td>\n",
              "      <td>₹399</td>\n",
              "      <td>Itminaan Matka Biryani - Slow Cooked</td>\n",
              "    </tr>\n",
              "    <tr>\n",
              "      <th>3</th>\n",
              "      <td>Ulsoor, Bangalore</td>\n",
              "      <td>Timeless Chicken Tikka [Boneless]</td>\n",
              "      <td>₹229</td>\n",
              "      <td>Itminaan Matka Biryani - Slow Cooked</td>\n",
              "    </tr>\n",
              "    <tr>\n",
              "      <th>4</th>\n",
              "      <td>Ulsoor, Bangalore</td>\n",
              "      <td>Tandoor style Chicken Wings</td>\n",
              "      <td>₹199</td>\n",
              "      <td>Itminaan Matka Biryani - Slow Cooked</td>\n",
              "    </tr>\n",
              "  </tbody>\n",
              "</table>\n",
              "</div>"
            ],
            "text/plain": [
              "            location                                          dish_name  \\\n",
              "0  Ulsoor, Bangalore  1 KG Veg & Paneer Overload Matka Biryani + FRE...   \n",
              "1  Ulsoor, Bangalore    1 KG Bhuna Chicken Matka Biryani + FREE Dessert   \n",
              "2  Ulsoor, Bangalore    1 KG Chole Dumdaar Matka Biryani + FREE Dessert   \n",
              "3  Ulsoor, Bangalore                  Timeless Chicken Tikka [Boneless]   \n",
              "4  Ulsoor, Bangalore                        Tandoor style Chicken Wings   \n",
              "\n",
              "  dish_price                       restaurant_name  \n",
              "0       ₹449  Itminaan Matka Biryani - Slow Cooked  \n",
              "1       ₹499  Itminaan Matka Biryani - Slow Cooked  \n",
              "2       ₹399  Itminaan Matka Biryani - Slow Cooked  \n",
              "3       ₹229  Itminaan Matka Biryani - Slow Cooked  \n",
              "4       ₹199  Itminaan Matka Biryani - Slow Cooked  "
            ]
          },
          "execution_count": 57,
          "metadata": {},
          "output_type": "execute_result"
        }
      ],
      "source": [
        "df1 = pd.read_csv(r'C:\\Users\\Vaishali Tomar\\Desktop\\zomato_project\\excel\\restaurant_details.csv')\n",
        "df1.head()"
      ]
    },
    {
      "cell_type": "code",
      "execution_count": null,
      "id": "2f948932",
      "metadata": {
        "id": "2f948932",
        "outputId": "aeba70b4-4e0a-4b25-f3b5-503731998bce"
      },
      "outputs": [
        {
          "data": {
            "text/plain": [
              "(75960, 4)"
            ]
          },
          "execution_count": 58,
          "metadata": {},
          "output_type": "execute_result"
        }
      ],
      "source": [
        "df1.shape"
      ]
    },
    {
      "cell_type": "markdown",
      "id": "fb45537b",
      "metadata": {
        "id": "fb45537b"
      },
      "source": [
        "### cheaching null values\n"
      ]
    },
    {
      "cell_type": "code",
      "execution_count": null,
      "id": "c7908db6",
      "metadata": {
        "id": "c7908db6",
        "outputId": "7ec94910-3ceb-4808-f365-63513315a5a6"
      },
      "outputs": [
        {
          "data": {
            "text/plain": [
              "location            140\n",
              "dish_name          7890\n",
              "dish_price         7890\n",
              "restaurant_name     140\n",
              "dtype: int64"
            ]
          },
          "execution_count": 59,
          "metadata": {},
          "output_type": "execute_result"
        }
      ],
      "source": [
        "df1.isnull().sum()"
      ]
    },
    {
      "cell_type": "code",
      "execution_count": null,
      "id": "1afb3e7c",
      "metadata": {
        "id": "1afb3e7c"
      },
      "outputs": [],
      "source": [
        "df1.dropna(inplace=True)"
      ]
    },
    {
      "cell_type": "markdown",
      "id": "569cef46",
      "metadata": {
        "id": "569cef46"
      },
      "source": [
        "### data types\n"
      ]
    },
    {
      "cell_type": "code",
      "execution_count": null,
      "id": "d8e68441",
      "metadata": {
        "id": "d8e68441",
        "outputId": "e4464212-14ce-4efc-bba5-b07cb18c4e2a"
      },
      "outputs": [
        {
          "data": {
            "text/plain": [
              "location           object\n",
              "dish_name          object\n",
              "dish_price         object\n",
              "restaurant_name    object\n",
              "dtype: object"
            ]
          },
          "execution_count": 61,
          "metadata": {},
          "output_type": "execute_result"
        }
      ],
      "source": [
        "df1.dtypes"
      ]
    },
    {
      "cell_type": "code",
      "execution_count": null,
      "id": "cb4a0c6e",
      "metadata": {
        "id": "cb4a0c6e"
      },
      "outputs": [],
      "source": [
        "df1['dish_price'] = df1[\"dish_price\"].str.replace('₹','').str.replace(',','') #removing '₹'"
      ]
    },
    {
      "cell_type": "code",
      "execution_count": null,
      "id": "78af7709",
      "metadata": {
        "id": "78af7709",
        "outputId": "47aaf1ae-7643-4d7d-b798-cbc61af4fc14"
      },
      "outputs": [
        {
          "data": {
            "text/html": [
              "<div>\n",
              "<style scoped>\n",
              "    .dataframe tbody tr th:only-of-type {\n",
              "        vertical-align: middle;\n",
              "    }\n",
              "\n",
              "    .dataframe tbody tr th {\n",
              "        vertical-align: top;\n",
              "    }\n",
              "\n",
              "    .dataframe thead th {\n",
              "        text-align: right;\n",
              "    }\n",
              "</style>\n",
              "<table border=\"1\" class=\"dataframe\">\n",
              "  <thead>\n",
              "    <tr style=\"text-align: right;\">\n",
              "      <th></th>\n",
              "      <th>location</th>\n",
              "      <th>dish_name</th>\n",
              "      <th>dish_price</th>\n",
              "      <th>restaurant_name</th>\n",
              "    </tr>\n",
              "  </thead>\n",
              "  <tbody>\n",
              "    <tr>\n",
              "      <th>0</th>\n",
              "      <td>Ulsoor, Bangalore</td>\n",
              "      <td>1 KG Veg &amp; Paneer Overload Matka Biryani + FRE...</td>\n",
              "      <td>449</td>\n",
              "      <td>Itminaan Matka Biryani - Slow Cooked</td>\n",
              "    </tr>\n",
              "    <tr>\n",
              "      <th>1</th>\n",
              "      <td>Ulsoor, Bangalore</td>\n",
              "      <td>1 KG Bhuna Chicken Matka Biryani + FREE Dessert</td>\n",
              "      <td>499</td>\n",
              "      <td>Itminaan Matka Biryani - Slow Cooked</td>\n",
              "    </tr>\n",
              "    <tr>\n",
              "      <th>2</th>\n",
              "      <td>Ulsoor, Bangalore</td>\n",
              "      <td>1 KG Chole Dumdaar Matka Biryani + FREE Dessert</td>\n",
              "      <td>399</td>\n",
              "      <td>Itminaan Matka Biryani - Slow Cooked</td>\n",
              "    </tr>\n",
              "    <tr>\n",
              "      <th>3</th>\n",
              "      <td>Ulsoor, Bangalore</td>\n",
              "      <td>Timeless Chicken Tikka [Boneless]</td>\n",
              "      <td>229</td>\n",
              "      <td>Itminaan Matka Biryani - Slow Cooked</td>\n",
              "    </tr>\n",
              "    <tr>\n",
              "      <th>4</th>\n",
              "      <td>Ulsoor, Bangalore</td>\n",
              "      <td>Tandoor style Chicken Wings</td>\n",
              "      <td>199</td>\n",
              "      <td>Itminaan Matka Biryani - Slow Cooked</td>\n",
              "    </tr>\n",
              "  </tbody>\n",
              "</table>\n",
              "</div>"
            ],
            "text/plain": [
              "            location                                          dish_name  \\\n",
              "0  Ulsoor, Bangalore  1 KG Veg & Paneer Overload Matka Biryani + FRE...   \n",
              "1  Ulsoor, Bangalore    1 KG Bhuna Chicken Matka Biryani + FREE Dessert   \n",
              "2  Ulsoor, Bangalore    1 KG Chole Dumdaar Matka Biryani + FREE Dessert   \n",
              "3  Ulsoor, Bangalore                  Timeless Chicken Tikka [Boneless]   \n",
              "4  Ulsoor, Bangalore                        Tandoor style Chicken Wings   \n",
              "\n",
              "  dish_price                       restaurant_name  \n",
              "0        449  Itminaan Matka Biryani - Slow Cooked  \n",
              "1        499  Itminaan Matka Biryani - Slow Cooked  \n",
              "2        399  Itminaan Matka Biryani - Slow Cooked  \n",
              "3        229  Itminaan Matka Biryani - Slow Cooked  \n",
              "4        199  Itminaan Matka Biryani - Slow Cooked  "
            ]
          },
          "execution_count": 63,
          "metadata": {},
          "output_type": "execute_result"
        }
      ],
      "source": [
        "df1.head()"
      ]
    },
    {
      "cell_type": "code",
      "execution_count": null,
      "id": "2e0280cb",
      "metadata": {
        "id": "2e0280cb"
      },
      "outputs": [],
      "source": [
        "df1['dish_price']=df1['dish_price'].astype('float') #changing data type of dish_price"
      ]
    },
    {
      "cell_type": "code",
      "execution_count": null,
      "id": "37f60fda",
      "metadata": {
        "id": "37f60fda",
        "outputId": "3fbbabd4-2f14-4b5d-aa1f-7cecd37596ce"
      },
      "outputs": [
        {
          "data": {
            "text/plain": [
              "location            object\n",
              "dish_name           object\n",
              "dish_price         float64\n",
              "restaurant_name     object\n",
              "dtype: object"
            ]
          },
          "execution_count": 65,
          "metadata": {},
          "output_type": "execute_result"
        }
      ],
      "source": [
        "df1.dtypes"
      ]
    },
    {
      "cell_type": "markdown",
      "id": "6fb12665",
      "metadata": {
        "id": "6fb12665"
      },
      "source": [
        "# Both the tables are clean now"
      ]
    },
    {
      "cell_type": "markdown",
      "id": "b09d65a4",
      "metadata": {
        "id": "b09d65a4"
      },
      "source": [
        "#### downloading both the csv's"
      ]
    },
    {
      "cell_type": "code",
      "execution_count": null,
      "id": "405a3cf8",
      "metadata": {
        "id": "405a3cf8"
      },
      "outputs": [],
      "source": [
        "df.to_csv(r\"C:\\Users\\Vaishali Tomar\\Desktop\\zomato_project\\restaurant_info.csv\")"
      ]
    },
    {
      "cell_type": "code",
      "execution_count": null,
      "id": "e099c09e",
      "metadata": {
        "id": "e099c09e"
      },
      "outputs": [],
      "source": [
        "df1.to_csv(r\"C:\\Users\\Vaishali Tomar\\Desktop\\zomato_project\\restaurant_details.csv\")"
      ]
    }
  ],
  "metadata": {
    "kernelspec": {
      "display_name": "Python 3.9.12 ('base')",
      "language": "python",
      "name": "python3"
    },
    "language_info": {
      "codemirror_mode": {
        "name": "ipython",
        "version": 3
      },
      "file_extension": ".py",
      "mimetype": "text/x-python",
      "name": "python",
      "nbconvert_exporter": "python",
      "pygments_lexer": "ipython3",
      "version": "3.9.12"
    },
    "vscode": {
      "interpreter": {
        "hash": "043f2b5a1970a131d06754b308e1494d14bec9888fec20f91acc177f4f73a177"
      }
    },
    "colab": {
      "provenance": []
    }
  },
  "nbformat": 4,
  "nbformat_minor": 5
}